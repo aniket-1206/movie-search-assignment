{
 "cells": [
  {
   "cell_type": "markdown",
   "id": "b0294cda",
   "metadata": {},
   "source": [
    "# Movie Semantic Search — Solution Notebook\n",
    "\n",
    "Follow the numbered sections as per the assignment."
   ]
  },
  {
   "cell_type": "markdown",
   "id": "3a7a7bfb",
   "metadata": {},
   "source": [
    "## 1) Install & Import Libraries"
   ]
  },
  {
   "cell_type": "code",
   "execution_count": 1,
   "id": "c8b617d3",
   "metadata": {},
   "outputs": [
    {
     "name": "stderr",
     "output_type": "stream",
     "text": [
      "C:\\ai\\1\\movie-search-assignment\\venv\\Lib\\site-packages\\tqdm\\auto.py:21: TqdmWarning: IProgress not found. Please update jupyter and ipywidgets. See https://ipywidgets.readthedocs.io/en/stable/user_install.html\n",
      "  from .autonotebook import tqdm as notebook_tqdm\n"
     ]
    }
   ],
   "source": [
    "# If running locally and packages are missing, uncomment the following lines:\n",
    "# !pip install -q -U sentence-transformers pandas scikit-learn numpy\n",
    "\n",
    "import pandas as pd\n",
    "import numpy as np\n",
    "from sentence_transformers import SentenceTransformer\n",
    "\n",
    "from movie_search import load_movies, build_encoder, compute_embeddings, search_movies\n"
   ]
  },
  {
   "cell_type": "markdown",
   "id": "96d72f87",
   "metadata": {},
   "source": [
    "## 2) Load `movies.csv` into a DataFrame"
   ]
  },
  {
   "cell_type": "code",
   "execution_count": 2,
   "id": "69a4f7bb",
   "metadata": {},
   "outputs": [
    {
     "data": {
      "text/html": [
       "<div>\n",
       "<style scoped>\n",
       "    .dataframe tbody tr th:only-of-type {\n",
       "        vertical-align: middle;\n",
       "    }\n",
       "\n",
       "    .dataframe tbody tr th {\n",
       "        vertical-align: top;\n",
       "    }\n",
       "\n",
       "    .dataframe thead th {\n",
       "        text-align: right;\n",
       "    }\n",
       "</style>\n",
       "<table border=\"1\" class=\"dataframe\">\n",
       "  <thead>\n",
       "    <tr style=\"text-align: right;\">\n",
       "      <th></th>\n",
       "      <th>title</th>\n",
       "      <th>plot</th>\n",
       "    </tr>\n",
       "  </thead>\n",
       "  <tbody>\n",
       "    <tr>\n",
       "      <th>0</th>\n",
       "      <td>Spy Movie</td>\n",
       "      <td>A spy navigates intrigue in Paris to stop a te...</td>\n",
       "    </tr>\n",
       "    <tr>\n",
       "      <th>1</th>\n",
       "      <td>Romance in Paris</td>\n",
       "      <td>A couple falls in love in Paris under romantic...</td>\n",
       "    </tr>\n",
       "    <tr>\n",
       "      <th>2</th>\n",
       "      <td>Action Flick</td>\n",
       "      <td>A high-octane chase through New York with expl...</td>\n",
       "    </tr>\n",
       "  </tbody>\n",
       "</table>\n",
       "</div>"
      ],
      "text/plain": [
       "              title                                               plot\n",
       "0         Spy Movie  A spy navigates intrigue in Paris to stop a te...\n",
       "1  Romance in Paris  A couple falls in love in Paris under romantic...\n",
       "2      Action Flick  A high-octane chase through New York with expl..."
      ]
     },
     "execution_count": 2,
     "metadata": {},
     "output_type": "execute_result"
    }
   ],
   "source": [
    "# Replace with your actual path if needed\n",
    "CSV_PATH = \"movies.csv\"\n",
    "\n",
    "df = load_movies(CSV_PATH)\n",
    "df.head()\n"
   ]
  },
  {
   "cell_type": "markdown",
   "id": "d5894559",
   "metadata": {},
   "source": [
    "## 3) Create embeddings with `all-MiniLM-L6-v2`"
   ]
  },
  {
   "cell_type": "code",
   "execution_count": 3,
   "id": "87a842f9",
   "metadata": {},
   "outputs": [
    {
     "data": {
      "text/plain": [
       "(3, 384)"
      ]
     },
     "execution_count": 3,
     "metadata": {},
     "output_type": "execute_result"
    }
   ],
   "source": [
    "model = build_encoder(\"sentence-transformers/all-MiniLM-L6-v2\")\n",
    "embeddings = compute_embeddings(model, df[\"plot\"], batch_size=64, normalize=True)\n",
    "embeddings.shape\n"
   ]
  },
  {
   "cell_type": "markdown",
   "id": "6ff1bca1",
   "metadata": {},
   "source": [
    "## 4) Implement `search_movies(query, top_n)`"
   ]
  },
  {
   "cell_type": "code",
   "execution_count": 4,
   "id": "a4445506",
   "metadata": {},
   "outputs": [
    {
     "name": "stdout",
     "output_type": "stream",
     "text": [
      "Help on function search_movies in module movie_search:\n",
      "\n",
      "search_movies(query: 'str', top_n: 'int', model: 'SentenceTransformer', df: 'pd.DataFrame', embeddings: 'np.ndarray', return_cols: 'Sequence[str]' = ('title', 'plot')) -> 'pd.DataFrame'\n",
      "    Return a DataFrame of the top_n movies most similar to the query.\n",
      "    The output includes the requested columns plus a 'similarity' column (float, descending).\n",
      "\n"
     ]
    }
   ],
   "source": [
    "# The function is implemented in movie_search.py and imported above.\n",
    "# You can open that file to review the code and its docstrings.\n",
    "help(search_movies)\n"
   ]
  },
  {
   "cell_type": "markdown",
   "id": "9b254c3d",
   "metadata": {},
   "source": [
    "## 5) Test with query `'spy thriller in Paris'`"
   ]
  },
  {
   "cell_type": "code",
   "execution_count": 5,
   "id": "068aa622",
   "metadata": {},
   "outputs": [
    {
     "data": {
      "text/html": [
       "<div>\n",
       "<style scoped>\n",
       "    .dataframe tbody tr th:only-of-type {\n",
       "        vertical-align: middle;\n",
       "    }\n",
       "\n",
       "    .dataframe tbody tr th {\n",
       "        vertical-align: top;\n",
       "    }\n",
       "\n",
       "    .dataframe thead th {\n",
       "        text-align: right;\n",
       "    }\n",
       "</style>\n",
       "<table border=\"1\" class=\"dataframe\">\n",
       "  <thead>\n",
       "    <tr style=\"text-align: right;\">\n",
       "      <th></th>\n",
       "      <th>title</th>\n",
       "      <th>plot</th>\n",
       "      <th>similarity</th>\n",
       "    </tr>\n",
       "  </thead>\n",
       "  <tbody>\n",
       "    <tr>\n",
       "      <th>0</th>\n",
       "      <td>Spy Movie</td>\n",
       "      <td>A spy navigates intrigue in Paris to stop a te...</td>\n",
       "      <td>0.769684</td>\n",
       "    </tr>\n",
       "    <tr>\n",
       "      <th>1</th>\n",
       "      <td>Romance in Paris</td>\n",
       "      <td>A couple falls in love in Paris under romantic...</td>\n",
       "      <td>0.388030</td>\n",
       "    </tr>\n",
       "    <tr>\n",
       "      <th>2</th>\n",
       "      <td>Action Flick</td>\n",
       "      <td>A high-octane chase through New York with expl...</td>\n",
       "      <td>0.256777</td>\n",
       "    </tr>\n",
       "  </tbody>\n",
       "</table>\n",
       "</div>"
      ],
      "text/plain": [
       "              title                                               plot  \\\n",
       "0         Spy Movie  A spy navigates intrigue in Paris to stop a te...   \n",
       "1  Romance in Paris  A couple falls in love in Paris under romantic...   \n",
       "2      Action Flick  A high-octane chase through New York with expl...   \n",
       "\n",
       "   similarity  \n",
       "0    0.769684  \n",
       "1    0.388030  \n",
       "2    0.256777  "
      ]
     },
     "execution_count": 5,
     "metadata": {},
     "output_type": "execute_result"
    }
   ],
   "source": [
    "query = \"spy thriller in Paris\"\n",
    "top_n = 5\n",
    "results = search_movies(query, top_n, model, df, embeddings, return_cols=(\"title\",\"plot\"))\n",
    "results\n"
   ]
  },
  {
   "cell_type": "markdown",
   "id": "3f9e1789",
   "metadata": {},
   "source": [
    "## Notes & Troubleshooting\n",
    "- If the unit tests expect specific column names, open `tests/test_movie_search.py` and confirm the expected output schema.\n",
    "- If your dataset uses `overview` instead of `plot`, `load_movies` auto-detects and renames it.\n",
    "- Re-run cells if you change code in `movie_search.py` (Kernel → Restart & Run All).\n"
   ]
  },
  {
   "cell_type": "code",
   "execution_count": 8,
   "id": "e434ddb2-18f7-4836-bcd0-a8555be8411a",
   "metadata": {},
   "outputs": [
    {
     "name": "stderr",
     "output_type": "stream",
     "text": [
      "C:\\ai\\1\\movie-search-assignment\\venv\\Scripts\\python.exe: No module named pytest\n"
     ]
    }
   ],
   "source": [
    "!C:\\ai\\1\\movie-search-assignment\\venv\\Scripts\\python.exe -m pytest -v tests/test_movie_search.py\n"
   ]
  },
  {
   "cell_type": "code",
   "execution_count": 9,
   "id": "0bd6e1ce-8447-418c-b466-5c062f4cf449",
   "metadata": {},
   "outputs": [
    {
     "name": "stdout",
     "output_type": "stream",
     "text": [
      "Collecting pytest\n",
      "  Downloading pytest-8.4.1-py3-none-any.whl (365 kB)\n",
      "     -------------------------------------- 365.5/365.5 kB 2.5 MB/s eta 0:00:00\n",
      "Requirement already satisfied: colorama>=0.4 in c:\\ai\\1\\movie-search-assignment\\venv\\lib\\site-packages (from pytest) (0.4.6)\n",
      "Collecting iniconfig>=1\n",
      "  Downloading iniconfig-2.1.0-py3-none-any.whl (6.0 kB)\n",
      "Requirement already satisfied: packaging>=20 in c:\\ai\\1\\movie-search-assignment\\venv\\lib\\site-packages (from pytest) (25.0)\n",
      "Collecting pluggy<2,>=1.5\n",
      "  Downloading pluggy-1.6.0-py3-none-any.whl (20 kB)\n",
      "Requirement already satisfied: pygments>=2.7.2 in c:\\ai\\1\\movie-search-assignment\\venv\\lib\\site-packages (from pytest) (2.19.2)\n",
      "Installing collected packages: pluggy, iniconfig, pytest\n",
      "Successfully installed iniconfig-2.1.0 pluggy-1.6.0 pytest-8.4.1\n"
     ]
    },
    {
     "name": "stderr",
     "output_type": "stream",
     "text": [
      "\n",
      "[notice] A new release of pip available: 22.3 -> 25.2\n",
      "[notice] To update, run: python.exe -m pip install --upgrade pip\n"
     ]
    }
   ],
   "source": [
    "!C:\\ai\\1\\movie-search-assignment\\venv\\Scripts\\python.exe -m pip install pytest\n"
   ]
  },
  {
   "cell_type": "code",
   "execution_count": 11,
   "id": "5bcc9e1a-5a09-4378-bdbe-abee41197a97",
   "metadata": {},
   "outputs": [
    {
     "name": "stdout",
     "output_type": "stream",
     "text": [
      "\u001b[1m============================= test session starts =============================\u001b[0m\n",
      "platform win32 -- Python 3.11.0, pytest-8.4.1, pluggy-1.6.0 -- C:\\ai\\1\\movie-search-assignment\\venv\\Scripts\\python.exe\n",
      "cachedir: .pytest_cache\n",
      "rootdir: C:\\ai\\1\\movie-search-assignment\n",
      "\u001b[1mcollecting ... \u001b[0mcollected 4 items\n",
      "\n",
      "tests/test_movie_search.py::TestMovieSearch::test_search_movies_output_format \u001b[32mPASSED\u001b[0m\u001b[32m [ 25%]\u001b[0m\n",
      "tests/test_movie_search.py::TestMovieSearch::test_search_movies_relevance \u001b[32mPASSED\u001b[0m\u001b[32m [ 50%]\u001b[0m\n",
      "tests/test_movie_search.py::TestMovieSearch::test_search_movies_similarity_range \u001b[32mPASSED\u001b[0m\u001b[32m [ 75%]\u001b[0m\n",
      "tests/test_movie_search.py::TestMovieSearch::test_search_movies_top_n \u001b[32mPASSED\u001b[0m\u001b[32m [100%]\u001b[0m\n",
      "\n",
      "\u001b[32m============================= \u001b[32m\u001b[1m4 passed\u001b[0m\u001b[32m in 11.13s\u001b[0m\u001b[32m ==============================\u001b[0m\n"
     ]
    }
   ],
   "source": [
    "\n",
    "!pytest -v tests/test_movie_search.py\n"
   ]
  },
  {
   "cell_type": "code",
   "execution_count": null,
   "id": "4f1d61bf-cf7c-4404-8290-c64881e6848f",
   "metadata": {},
   "outputs": [],
   "source": []
  }
 ],
 "metadata": {
  "kernelspec": {
   "display_name": "Python (venv)",
   "language": "python",
   "name": "venv"
  },
  "language_info": {
   "codemirror_mode": {
    "name": "ipython",
    "version": 3
   },
   "file_extension": ".py",
   "mimetype": "text/x-python",
   "name": "python",
   "nbconvert_exporter": "python",
   "pygments_lexer": "ipython3",
   "version": "3.11.0"
  }
 },
 "nbformat": 4,
 "nbformat_minor": 5
}
